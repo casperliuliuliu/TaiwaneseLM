{
 "cells": [
  {
   "cell_type": "code",
   "execution_count": 1,
   "metadata": {},
   "outputs": [
    {
     "name": "stdout",
     "output_type": "stream",
     "text": [
      "bin c:\\Users\\User\\anaconda3\\envs\\GPU\\lib\\site-packages\\bitsandbytes\\libbitsandbytes_cuda121.dll\n"
     ]
    },
    {
     "data": {
      "application/vnd.jupyter.widget-view+json": {
       "model_id": "c3a348e2ec94450ab8021dc8e56fc5c9",
       "version_major": 2,
       "version_minor": 0
      },
      "text/plain": [
       "Loading checkpoint shards:   0%|          | 0/8 [00:00<?, ?it/s]"
      ]
     },
     "metadata": {},
     "output_type": "display_data"
    }
   ],
   "source": [
    "# In[]\n",
    "import torch\n",
    "from transformers import pipeline\n",
    "path = \"D:\\Casper\\OTHER\\Weight\\huggingface\\hub\\models--HuggingFaceH4--zephyr-7b-beta\\snapshots\\dc24cabd13eacd3ae3a5fe574bd645483a335a4a\"\n",
    "pipe = pipeline(\"text-generation\", model=path, torch_dtype=torch.bfloat16, device_map=\"auto\")\n",
    "conversation_history = []"
   ]
  },
  {
   "cell_type": "code",
   "execution_count": 2,
   "metadata": {},
   "outputs": [
    {
     "name": "stderr",
     "output_type": "stream",
     "text": [
      "Setting `pad_token_id` to `eos_token_id`:2 for open-end generation.\n"
     ]
    }
   ],
   "source": [
    "# while True:\n",
    "content = input(\"Enter:\")\n",
    "# We use the tokenizer's chat template to format each message - see https://huggingface.co/docs/transformers/main/en/chat_templating\n",
    "messages = [\n",
    "    {\n",
    "        \"role\": \"system\",\n",
    "        \"content\": \"You are a friendly chatbot\",\n",
    "    },\n",
    "    {\n",
    "        \"role\": \"user\", \n",
    "        \"content\": \"what is alcohol\"\n",
    "    },\n",
    "    {\n",
    "        \"role\": \"assistant\", \n",
    "        \"content\": \"When we talk about alcohol, we usually mean the alcohol found in beer, wine and spirits. Alcohol is the ingredient in these drinks that makes you drunk.The alcohol in drinks is called ethanol (ethyl alcohol). It is made when yeast ferments the sugars in grains, fruits and vegetables. For example, wine is made from the sugar in grapes and vodka is made from the sugar in potatoes.\"\n",
    "    },\n",
    "    {\n",
    "        \"role\": \"user\", \n",
    "        \"content\": content\n",
    "    },\n",
    "]\n",
    "prompt = pipe.tokenizer.apply_chat_template(messages, tokenize=False, add_generation_prompt=True)\n",
    "outputs = pipe(prompt, max_new_tokens=256, do_sample=True, temperature=0.7, top_k=50, top_p=0.95)\n",
    "# In[]\n",
    "# print(dir(outputs[0][\"generated_text\"][0]))\n",
    "# <|system|>\n",
    "# You are a friendly chatbot who always responds in the style of a pirate.</s>\n",
    "# <|user|>\n",
    "# How many helicopters can a human eat in one sitting?</s>\n",
    "# <|assistant|>\n",
    "# Ah, me hearty matey! But yer question be a puzzler! A human cannot eat a helicopter in one sitting, as helicopters are not edible. They be made of metal, plastic, and other materials, not food!\n",
    "\n",
    "# %%\n",
    "# %%\n"
   ]
  },
  {
   "cell_type": "code",
   "execution_count": 3,
   "metadata": {},
   "outputs": [
    {
     "name": "stdout",
     "output_type": "stream",
     "text": [
      "<|system|>\n",
      "You are a friendly chatbot</s>\n",
      "<|user|>\n",
      "what is alcohol</s>\n",
      "<|assistant|>\n",
      "When we talk about alcohol, we usually mean the alcohol found in beer, wine and spirits. Alcohol is the ingredient in these drinks that makes you drunk.The alcohol in drinks is called ethanol (ethyl alcohol). It is made when yeast ferments the sugars in grains, fruits and vegetables. For example, wine is made from the sugar in grapes and vodka is made from the sugar in potatoes.</s>\n",
      "<|user|>\n",
      "what are red?</s>\n",
      "<|assistant|>\n",
      "\"Red\" is a color. Some common examples of things that are red include:\n",
      "\n",
      "- Apples\n",
      "- Strawberries (when ripe)\n",
      "- Cherries\n",
      "- Tomatoes\n",
      "- Stop signs\n",
      "- Blood (in mammals)\n",
      "\n",
      "The exact shade of red can vary greatly, from a deep, rich burgundy to a bright, fiery scarlet. Red is often associated with passion, energy, and excitement.\n"
     ]
    }
   ],
   "source": [
    "print(outputs[0][\"generated_text\"])\n"
   ]
  },
  {
   "cell_type": "code",
   "execution_count": 4,
   "metadata": {},
   "outputs": [
    {
     "name": "stdout",
     "output_type": "stream",
     "text": [
      "Last response from the assistant:\n",
      "<|assistant|>\n",
      "\"Red\" is a color. Some common examples of things that are red include:\n",
      "\n",
      "- Apples\n",
      "- Strawberries (when ripe)\n",
      "- Cherries\n",
      "- Tomatoes\n",
      "- Stop signs\n",
      "- Blood (in mammals)\n",
      "\n",
      "The exact shade of red can vary greatly, from a deep, rich burgundy to a bright, fiery scarlet. Red is often associated with passion, energy, and excitement.\n"
     ]
    }
   ],
   "source": [
    "# Split the conversation text by the delimiter '</s>'\n",
    "segments = outputs[0][\"generated_text\"].strip().split('</s>')\n",
    "\n",
    "# Filter out any empty segments that might result from splitting\n",
    "non_empty_segments = [segment.strip() for segment in segments if segment.strip()]\n",
    "\n",
    "# Take the last non-empty segment as the last response from the assistant\n",
    "last_response = non_empty_segments[-1] if non_empty_segments else \"\"\n",
    "\n",
    "print(\"Last response from the assistant:\")\n",
    "print(last_response)"
   ]
  }
 ],
 "metadata": {
  "kernelspec": {
   "display_name": "GPU",
   "language": "python",
   "name": "python3"
  },
  "language_info": {
   "codemirror_mode": {
    "name": "ipython",
    "version": 3
   },
   "file_extension": ".py",
   "mimetype": "text/x-python",
   "name": "python",
   "nbconvert_exporter": "python",
   "pygments_lexer": "ipython3",
   "version": "3.10.12"
  }
 },
 "nbformat": 4,
 "nbformat_minor": 2
}
